{
  "cells": [
    {
      "cell_type": "code",
      "execution_count": null,
      "metadata": {},
      "outputs": [],
      "source": [
        "%load_ext autoreload\n",
        "%autoreload 2"
      ]
    },
    {
      "cell_type": "code",
      "execution_count": null,
      "metadata": {},
      "outputs": [],
      "source": [
        "import sys\n",
        "import os\n",
        "\n",
        "project_root = os.path.abspath(os.path.join(os.getcwd(), '..', '..'))\n",
        "sys.path.append(project_root)\n",
        "\n",
        "print(f\"Project root: {project_root}\")\n",
        "print(f\"sys.path: {sys.path}\")\n",
        "\n",
        "\n",
        "importmachine_learning.files_lib as FL\n",
        "import data_preprocessing.utils as utils\n",
        "importmachine_learning.ml_lib as ML"
      ]
    },
    {
      "cell_type": "code",
      "execution_count": 29,
      "metadata": {},
      "outputs": [],
      "source": [
        "import numpy as np\n",
        "from sklearn.svm import SVC\n",
        "from sklearn.ensemble import RandomForestClassifier, GradientBoostingClassifier\n",
        "from sklearn.neighbors import KNeighborsClassifier\n",
        "from sklearn.linear_model import LogisticRegression\n",
        "from scipy.stats import uniform, randint\n",
        "from sklearn.svm import SVC\n",
        "from sklearn.ensemble import RandomForestClassifier, GradientBoostingClassifier\n",
        "from sklearn.linear_model import LogisticRegression\n",
        "from sklearn.neighbors import KNeighborsClassifier"
      ]
    },
    {
      "cell_type": "code",
      "execution_count": null,
      "metadata": {},
      "outputs": [],
      "source": [
        "dir_paths = utils.get_all_dir_paths(\"../../data/\") \n",
        "dir_paths"
      ]
    },
    {
      "cell_type": "code",
      "execution_count": null,
      "metadata": {},
      "outputs": [],
      "source": [
        "import numpy as np\n",
        "import pandas as pd\n",
        "frommachine_learning.preprocessing_lib import create_dataset"
      ]
    },
    {
      "cell_type": "code",
      "execution_count": null,
      "metadata": {},
      "outputs": [],
      "source": []
    },
    {
      "cell_type": "code",
      "execution_count": null,
      "metadata": {},
      "outputs": [],
      "source": [
        "X_full.shape"
      ]
    },
    {
      "cell_type": "code",
      "execution_count": null,
      "metadata": {},
      "outputs": [],
      "source": [
        "y_full.shape"
      ]
    },
    {
      "cell_type": "code",
      "execution_count": null,
      "metadata": {},
      "outputs": [],
      "source": [
        "unique_classes, counts = np.unique(y_full, return_counts=True)\n",
        "\n",
        "for cls, count in zip(unique_classes, counts):\n",
        "    print(f\"Class {cls}: {count} elements\")\n"
      ]
    },
    {
      "cell_type": "code",
      "execution_count": null,
      "metadata": {},
      "outputs": [],
      "source": [
        "if __name__ == \"__main__\":\n",
        "    models_param_grids = [\n",
        "        (SVC(), {\n",
        "            'model__C': [0.1, 1, 10, 100],\n",
        "            'model__gamma': [0.001, 0.01, 0.1, 1],\n",
        "            'model__kernel': ['linear', 'rbf']\n",
        "        }),\n",
        "        (RandomForestClassifier(), {\n",
        "            'model__n_estimators': [50, 100, 200],\n",
        "            'model__max_depth': [None, 10, 20, 30],\n",
        "            'model__min_samples_split': [2, 5, 10]\n",
        "        }),\n",
        "        (GradientBoostingClassifier(), {\n",
        "            'model__n_estimators': [100, 200, 300],\n",
        "            'model__learning_rate': [0.01, 0.1, 0.2],\n",
        "            'model__max_depth': [3, 4, 5]\n",
        "        }),\n",
        "        (LogisticRegression(), {\n",
        "            'model__C': [0.01, 0.1, 1, 10],\n",
        "            'model__penalty': ['l2'],\n",
        "            'model__solver': ['lbfgs', 'liblinear']\n",
        "        }),\n",
        "        (KNeighborsClassifier(), {\n",
        "            'model__n_neighbors': [3, 5, 7, 9],\n",
        "            'model__weights': ['uniform', 'distance']\n",
        "        })\n",
        "    ]\n",
        "\n",
        "    best_model = ML.model_selection_grid_search(models_param_grids, X_full, y_full, scoring='f1', result_folder='../results/attempt_1')\n",
        "\n"
      ]
    }
  ],
  "metadata": {
    "kernelspec": {
      "display_name": "Python (myenv)",
      "language": "python",
      "name": "myenv"
    },
    "language_info": {
      "codemirror_mode": {
        "name": "ipython",
        "version": 3
      },
      "file_extension": ".py",
      "mimetype": "text/x-python",
      "name": "python",
      "nbconvert_exporter": "python",
      "pygments_lexer": "ipython3",
      "version": "3.12.6"
    }
  },
  "nbformat": 4,
  "nbformat_minor": 2
}

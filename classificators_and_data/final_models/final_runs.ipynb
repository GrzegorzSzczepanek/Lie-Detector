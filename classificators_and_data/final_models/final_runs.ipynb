{
 "cells": [
  {
   "cell_type": "code",
   "execution_count": 1,
   "metadata": {},
   "outputs": [],
   "source": [
    "import os\n",
    "import sys\n",
    "\n",
    "project_root = os.path.abspath(os.path.join(os.getcwd(), '..', '..'))\n",
    "sys.path.append(project_root)\n"
   ]
  },
  {
   "cell_type": "code",
   "execution_count": 3,
   "metadata": {},
   "outputs": [
    {
     "ename": "ModuleNotFoundError",
     "evalue": "No module named 'final_models'",
     "output_type": "error",
     "traceback": [
      "\u001b[0;31m---------------------------------------------------------------------------\u001b[0m",
      "\u001b[0;31mModuleNotFoundError\u001b[0m                       Traceback (most recent call last)",
      "Cell \u001b[0;32mIn[3], line 1\u001b[0m\n\u001b[0;32m----> 1\u001b[0m \u001b[38;5;28;01mfrom\u001b[39;00m \u001b[38;5;21;01mfinal_models\u001b[39;00m\u001b[38;5;21;01m.\u001b[39;00m\u001b[38;5;21;01mExperimentManager\u001b[39;00m \u001b[38;5;28;01mimport\u001b[39;00m ExperimentManager, SplitStrategy\n\u001b[1;32m      2\u001b[0m \u001b[38;5;28;01mfrom\u001b[39;00m \u001b[38;5;21;01mfinal_models\u001b[39;00m\u001b[38;5;21;01m.\u001b[39;00m\u001b[38;5;21;01mExampleLieModel\u001b[39;00m \u001b[38;5;28;01mimport\u001b[39;00m ExampleLieModel\n\u001b[1;32m      3\u001b[0m \u001b[38;5;28;01mimport\u001b[39;00m \u001b[38;5;21;01mlogging\u001b[39;00m\n",
      "\u001b[0;31mModuleNotFoundError\u001b[0m: No module named 'final_models'"
     ]
    }
   ],
   "source": [
    "from final_models.ExperimentManager import ExperimentManager, SplitStrategy\n",
    "from final_models.ExampleLieModel import ExampleLieModel\n",
    "import logging"
   ]
  },
  {
   "cell_type": "code",
   "execution_count": 6,
   "metadata": {},
   "outputs": [
    {
     "name": "stdout",
     "output_type": "stream",
     "text": [
      "The autoreload extension is already loaded. To reload it, use:\n",
      "  %reload_ext autoreload\n"
     ]
    }
   ],
   "source": [
    "%load_ext autoreload\n",
    "%autoreload 2"
   ]
  },
  {
   "cell_type": "code",
   "execution_count": 7,
   "metadata": {},
   "outputs": [],
   "source": [
    "models = [ExampleLieModel()]\n",
    "split_strategies = [SplitStrategy.RANDOM42, SplitStrategy.RANDOM2137, SplitStrategy.SMALLTEST42, SplitStrategy.SUBJECTBASED42]"
   ]
  },
  {
   "cell_type": "code",
   "execution_count": 8,
   "metadata": {},
   "outputs": [
    {
     "name": "stderr",
     "output_type": "stream",
     "text": [
      "INFO:root:Running model ms/example for split strategy Random42 \n",
      "INFO:root:Getting data...\n",
      "d:\\_Docs\\Studia_magisterskie\\projekty-git\\lie-detector-2\\lie-detector-ai\\final_models\\ExperimentManager.py:77: SettingWithCopyWarning: \n",
      "A value is trying to be set on a copy of a slice from a DataFrame.\n",
      "Try using .loc[row_indexer,col_indexer] = value instead\n",
      "\n",
      "See the caveats in the documentation: https://pandas.pydata.org/pandas-docs/stable/user_guide/indexing.html#returning-a-view-versus-a-copy\n",
      "  self._df = df\n",
      "INFO:root:Training...\n",
      "INFO:root:Predicting...\n",
      "INFO:root:Calculating metrics...\n",
      "INFO:root:Saving...\n",
      "\n",
      "INFO:root:Running model ms/example for split strategy Random2137 \n",
      "INFO:root:Getting data...\n",
      "INFO:root:Using buffered data\n",
      "INFO:root:Training...\n",
      "INFO:root:Predicting...\n",
      "INFO:root:Calculating metrics...\n",
      "INFO:root:Saving...\n",
      "\n",
      "INFO:root:Running model ms/example for split strategy SmallTest42 \n",
      "INFO:root:Getting data...\n",
      "INFO:root:Using buffered data\n",
      "INFO:root:Training...\n",
      "INFO:root:Predicting...\n",
      "INFO:root:Calculating metrics...\n",
      "INFO:root:Saving...\n",
      "\n",
      "INFO:root:Running model ms/example for split strategy SubjectBased42 \n",
      "INFO:root:Getting data...\n",
      "INFO:root:Using buffered data\n",
      "INFO:root:Training...\n",
      "INFO:root:Predicting...\n",
      "INFO:root:Calculating metrics...\n",
      "INFO:root:Saving...\n",
      "\n"
     ]
    }
   ],
   "source": [
    "em = ExperimentManager(models, split_strategies)\n",
    "em.run()"
   ]
  }
 ],
 "metadata": {
  "kernelspec": {
   "display_name": "Python (myenv)",
   "language": "python",
   "name": "myenv"
  },
  "language_info": {
   "codemirror_mode": {
    "name": "ipython",
    "version": 3
   },
   "file_extension": ".py",
   "mimetype": "text/x-python",
   "name": "python",
   "nbconvert_exporter": "python",
   "pygments_lexer": "ipython3",
   "version": "3.12.7"
  }
 },
 "nbformat": 4,
 "nbformat_minor": 2
}

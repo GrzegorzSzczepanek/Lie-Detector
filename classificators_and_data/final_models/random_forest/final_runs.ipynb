{
 "cells": [
  {
   "cell_type": "code",
   "execution_count": 1,
   "metadata": {},
   "outputs": [],
   "source": [
    "%load_ext autoreload\n",
    "%autoreload 2"
   ]
  },
  {
   "cell_type": "code",
   "execution_count": 2,
   "metadata": {},
   "outputs": [],
   "source": [
    "import os\n",
    "import sys\n",
    "\n",
    "project_root = os.path.abspath(os.path.join(os.getcwd(), '..', '..'))\n",
    "sys.path.append(project_root)\n"
   ]
  },
  {
   "cell_type": "code",
   "execution_count": 3,
   "metadata": {},
   "outputs": [],
   "source": [
    "from final_models.ExperimentManager import ExperimentManager, SplitStrategy\n",
    "from final_models.gs.RandomForestModel import RandomForestModel\n",
    "import logging"
   ]
  },
  {
   "cell_type": "code",
   "execution_count": 4,
   "metadata": {},
   "outputs": [],
   "source": [
    "models = []\n",
    "preprocess_params = {\n",
    "        \"lfreq\": 0.3,\n",
    "        \"hfreq\": 70,\n",
    "        \"notch_filter\": [60],\n",
    "        \"baseline\": (None, None),\n",
    "        \"tmin\": 0,\n",
    "        \"tmax\": 0.6,\n",
    "    }\n",
    "model = RandomForestModel(preprocess_params=preprocess_params)\n",
    "models.append(model)"
   ]
  },
  {
   "cell_type": "code",
   "execution_count": null,
   "metadata": {},
   "outputs": [],
   "source": [
    "split_strategies = [\n",
    "    SplitStrategy.RANDOM42,\n",
    "    SplitStrategy.RANDOM2137,\n",
    "    SplitStrategy.SMALLTEST42,\n",
    "    SplitStrategy.SUBJECTBASED42\n",
    "]\n",
    "\n",
    "em = ExperimentManager(models, split_strategies)\n",
    "em.run()\n"
   ]
  }
 ],
 "metadata": {
  "kernelspec": {
   "display_name": "Python (myenv)",
   "language": "python",
   "name": "myenv"
  },
  "language_info": {
   "codemirror_mode": {
    "name": "ipython",
    "version": 3
   },
   "file_extension": ".py",
   "mimetype": "text/x-python",
   "name": "python",
   "nbconvert_exporter": "python",
   "pygments_lexer": "ipython3",
   "version": "3.12.7"
  }
 },
 "nbformat": 4,
 "nbformat_minor": 2
}
